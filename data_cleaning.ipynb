{
 "cells": [
  {
   "cell_type": "code",
   "execution_count": 75,
   "metadata": {},
   "outputs": [],
   "source": [
    "import json\n",
    "import os\n",
    "import pandas as pd\n",
    "import numpy as np\n",
    "import folium\n",
    "import ast \n",
    "import csv\n",
    "from hill_name import clean\n",
    "import re\n",
    "from itertools import cycle"
   ]
  },
  {
   "cell_type": "code",
   "execution_count": 77,
   "metadata": {},
   "outputs": [],
   "source": [
    "def extract_value(string):\n",
    "\n",
    "    if string is None:\n",
    "        return None\n",
    "    string = string.replace(\"-\", \"-\")\n",
    "    string = string.replace(\"–\", \"-\")\n",
    "    string = string.replace(\"−\", \"-\")\n",
    "    string = string.split(\"±\")[0]\n",
    "    split_by_space = [r for r in re.split(' |(-)', string) if r]\n",
    "    split_by_num = []\n",
    "    for elem in split_by_space:\n",
    "        split_by_num.extend([r for r in re.split('(\\d+\\.?(?:\\d+)?)', elem) if r])\n",
    "    if split_by_num[0] == \"-\":\n",
    "        split_by_num[0] = \"-\" + split_by_num.pop(1)\n",
    "    flag = 0\n",
    "    new_split_by_num = []\n",
    "    for index, value in enumerate(split_by_num):\n",
    "        if flag == 2:\n",
    "            new_split_by_num.append(split_by_num[index - 2])\n",
    "            new_split_by_num.append(split_by_num[index - 1] + value)\n",
    "            flag = 0\n",
    "        elif flag == 1 and re.match('(-?\\d+\\.?(?:\\d+)?)', value):\n",
    "            new_split_by_num.append(split_by_num[index - 1])\n",
    "            new_split_by_num.append(value)\n",
    "            flag = 0\n",
    "        elif not re.match('(-?\\d+\\.?(?:\\d+)?)', value):\n",
    "            flag += 1\n",
    "        else:\n",
    "            new_split_by_num.append(value)\n",
    "    values = []\n",
    "    for index, value in enumerate(new_split_by_num):\n",
    "        try:\n",
    "            float_val = float(value)\n",
    "            values.append(float_val)\n",
    "        except ValueError:\n",
    "            pass\n",
    "\n",
    "    return values\n",
    "\n",
    "def extract_error(string):\n",
    "\n",
    "    if string is None:\n",
    "        return None\n",
    "    string = string.replace(\"-\", \"-\")\n",
    "    string = string.replace(\"–\", \"-\")\n",
    "    string = string.replace(\"−\", \"-\")\n",
    "    string = string.replace(\" \", \"\")\n",
    "    split_by_num_and_error = [r for r in re.split('(\\d+\\.?(?:\\d+)?)|(±)', string) if r]\n",
    "    error = None\n",
    "    for index, value in enumerate(split_by_num_and_error):\n",
    "        if value == '±':\n",
    "            try:\n",
    "                 error = float(split_by_num_and_error[index + 1])\n",
    "            except ValueError:\n",
    "                pass\n",
    "            except IndexError:\n",
    "                pass\n",
    "\n",
    "    \n",
    "    return error\n",
    "\n",
    "def remove_2013(string):\n",
    "    return string.replace('\\u2013','-').replace('\\ue5f8','-').replace('\\u2212','-')\n",
    "\n",
    "abb = []\n",
    "for line in open(r'C:\\Users\\Jiuyang Zhao\\Documents\\Chemical_Abbreviations.json', 'r', encoding=\"utf-8\"):\n",
    "    record = json.loads(line)\n",
    "    abb.append(record)"
   ]
  },
  {
   "cell_type": "code",
   "execution_count": 19,
   "metadata": {},
   "outputs": [],
   "source": [
    "raw_data = []\n",
    "with open(r'F:\\papers\\refractive_index\\rsc_refractive_index\\demo\\test.json', encoding='utf-8') as f:\n",
    "    for line in f:\n",
    "        raw_data.append(json.loads(line))"
   ]
  },
  {
   "cell_type": "code",
   "execution_count": 48,
   "metadata": {},
   "outputs": [],
   "source": [
    "def post_process_data(raw_data,property_name='RefractiveIndex'):\n",
    "        \n",
    "    new_dic = {}\n",
    "    \n",
    "    if property_name in raw_data.keys():\n",
    "        if isinstance(raw_data['metadata'],dict):\n",
    "            new_dic['compound'] = raw_data[property_name]['compound']['Compound']['names']\n",
    "            new_dic['specifier'] = raw_data[property_name]['specifier']\n",
    "            new_dic['extracted_value'] = np.mean(extract_value(raw_data[property_name]['raw_value']))\n",
    "            new_dic['raw_value'] = raw_data[property_name]['raw_value']\n",
    "            new_dic['measurement_wavelength'] = raw_data[property_name].get('measured_wavelength',None)\n",
    "            new_dic['DOI'] = raw_data['metadata'].get('doi',None)\n",
    "            new_dic['Journal'] = raw_data['metadata'].get('journal',None)\n",
    "            new_dic['Date'] = raw_data['metadata'].get('date',None)\n",
    "            new_dic['Title'] = raw_data['metadata'].get('title',None)\n",
    "            \n",
    "        else:\n",
    "            new_dic['compound'] = raw_data[property_name]['compound']['Compound']['names']\n",
    "            new_dic['specifier'] = raw_data[property_name]['specifier']\n",
    "            new_dic['extracted_value'] = np.mean(extract_value(raw_data[property_name]['raw_value']))\n",
    "            new_dic['raw_value'] = raw_data[property_name]['raw_value']\n",
    "            new_dic['measurement_wavelength'] = raw_data[property_name].get('measured_wavelength',None)\n",
    "            new_dic['DOI'] = ast.literal_eval(raw_data['metadata']).get('doi',None)\n",
    "            new_dic['Journal'] = ast.literal_eval(raw_data['metadata']).get('journal',None)\n",
    "            new_dic['Date'] = ast.literal_eval(raw_data['metadata']).get('date',None)\n",
    "            new_dic['Title'] = ast.literal_eval(raw_data['metadata']).get('title',None)\n",
    "\n",
    "    elif 'confidence' in raw_data.keys():\n",
    "        new_dic['compound'] = [raw_data['compound']['names']]\n",
    "        new_dic['specifier'] = raw_data['specifier']\n",
    "        new_dic['extracted_value'] = np.mean(extract_value(raw_data['raw_value']))\n",
    "        new_dic['raw_value'] = raw_data['raw_value']\n",
    "        new_dic['measurement_wavelength'] = raw_data.get('measured_wavelength',None)\n",
    "        new_dic['DOI'] = raw_data.get('DOI',None)\n",
    "       \n",
    "    return new_dic\n"
   ]
  },
  {
   "cell_type": "code",
   "execution_count": 68,
   "metadata": {},
   "outputs": [],
   "source": [
    "# Remove any record whose compound names are incomplete, contain invalid characters or end with abnormal words\n",
    "dictionary_symbol = ['>','<','`','!','#','%','^','|','*','=',' -','- ',' –','– ']\n",
    "processed_data = []\n",
    "for data in raw_data:\n",
    "    try:\n",
    "        new_data = post_process_data(data)\n",
    "        for i in dictionary_symbol:\n",
    "            lst = new_data['compound']\n",
    "            for name in lst:\n",
    "                if i in name or len(name) == 1:\n",
    "                    try:\n",
    "                        data['compound'].remove(k)\n",
    "                    except:\n",
    "                        pass\n",
    "\n",
    "        if 'compound' in new_data.keys():\n",
    "            if len(new_data['compound']) >= 1:\n",
    "                processed_data.append(new_data)\n",
    "    except Exception as e:\n",
    "        print(e)\n",
    "        pass"
   ]
  },
  {
   "cell_type": "code",
   "execution_count": 71,
   "metadata": {},
   "outputs": [],
   "source": [
    "df = pd.DataFrame(processed_data)\n",
    "df = df.loc[df.astype(str).drop_duplicates().index]"
   ]
  },
  {
   "cell_type": "code",
   "execution_count": 72,
   "metadata": {},
   "outputs": [],
   "source": [
    "# Remove any record whose refractive index has an extreme value (larger than 10 or less than 1)\n",
    "\n",
    "df = df[(df['extracted_value'] <= 10) & (df['extracted_value'] >= 1)]"
   ]
  },
  {
   "cell_type": "code",
   "execution_count": 73,
   "metadata": {},
   "outputs": [],
   "source": [
    "# Remove records that have abnormal specifiers.\n",
    "\n",
    "specifier_symbols = [ ' R i ',' n F ','R I','nF','ri','nlit','nE','refractive','Refractive','refraction','Refraction',\n",
    "                     'R.I.','RI','R.I','r.i.','r.i','Lit. R.I.','nm','μm','μm','nD','nav','n D','Real part (n)',\n",
    "                     'Ref. index','n e','no','ne']\n",
    "\n",
    "specifier_remove = ['n=','n =','n = ',]\n",
    "\n",
    "def remove_specifier(string):\n",
    "    if any(i in string for i in specifier_remove):\n",
    "        return None\n",
    "    if any(i in string for i in specifier_symbols) or string == 'n' or string == ' n ':\n",
    "        return string\n",
    "    else:\n",
    "        return None\n",
    "    \n",
    "df['specifier'] = df['specifier'].apply(remove_specifier)\n",
    "df = df[df['specifier'].notnull()]"
   ]
  },
  {
   "cell_type": "code",
   "execution_count": 83,
   "metadata": {},
   "outputs": [],
   "source": [
    "# Remove records containing a refractive index which was extracted from an article whose title features the keywords \"binary system\" or \"ternarysystem\"\n",
    "\n",
    "df = df[df['Title'].astype(str).apply(lambda x : not any(i in x for i in ['BINARYMIXTURE','TERNARYSYSTEM','TERNARYMIXTURE']))]"
   ]
  },
  {
   "cell_type": "code",
   "execution_count": 85,
   "metadata": {},
   "outputs": [],
   "source": [
    "'''convert the extracted chemical names into standard for-mats. For organic chemicals,\n",
    "it used the NLP tool \"Open Parser for SystematicIUPAC Nomenclature\" (OPSIN) to convert compound names \n",
    "to their simplified molecular-input line-entry system (SMILES) notation. For inorganic chem-icals, \n",
    "the subroutine used the National Cancer Institute’s Chemical IdentifierResolver (CIR) through their Python wrapper, CIRpy, \n",
    "to convert the inorganic compound names into the Hill Notation'''\n",
    "\n",
    "def convert_name(names):\n",
    "    try:\n",
    "        for j in abb:\n",
    "            if names[0] == j['Abbreviation']:\n",
    "                return j['formula']\n",
    "        return clean([remove_2013(names[0])])[0]\n",
    "    except:\n",
    "        return []"
   ]
  },
  {
   "cell_type": "code",
   "execution_count": 86,
   "metadata": {},
   "outputs": [],
   "source": [
    "df['normalised_name'] = df['compound'].apply(convert_name)"
   ]
  },
  {
   "cell_type": "code",
   "execution_count": 90,
   "metadata": {},
   "outputs": [],
   "source": [
    "df = df[df['normalised_name'].apply(lambda x : len(x) >= 1)]"
   ]
  }
 ],
 "metadata": {
  "kernelspec": {
   "display_name": "Python 3",
   "language": "python",
   "name": "python3"
  },
  "language_info": {
   "codemirror_mode": {
    "name": "ipython",
    "version": 3
   },
   "file_extension": ".py",
   "mimetype": "text/x-python",
   "name": "python",
   "nbconvert_exporter": "python",
   "pygments_lexer": "ipython3",
   "version": "3.6.7"
  }
 },
 "nbformat": 4,
 "nbformat_minor": 4
}
